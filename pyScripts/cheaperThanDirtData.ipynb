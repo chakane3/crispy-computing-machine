{
 "cells": [
  {
   "cell_type": "code",
   "execution_count": 415,
   "source": [
    "import urllib.request\n",
    "import re\n",
    "from bs4 import BeautifulSoup\n",
    "from lxml import html\n",
    "import pandas as pd\n",
    "# import xmltojson\n",
    "import json\n",
    "import requests"
   ],
   "outputs": [],
   "metadata": {}
  },
  {
   "cell_type": "code",
   "execution_count": 416,
   "source": [
    "def range_price(url):\n",
    "    headers = {\n",
    "        'User-Agent': 'Mozilla/5.0 (Macintosh; Intel Mac OS X 10_10_1) AppleWebKit/537.36 \\\n",
    "        (KHTML, like Gecko) Chrome/39.0.2171.95 Safari/537.36'\n",
    "    }\n",
    "        \n",
    "    page = requests.get(url)\n",
    "    soup = BeautifulSoup(page.content, \"lxml\")\n",
    "    lowend = soup.find_all(\"span\", {\"class\":\"value\", \"itemprop\":\"lowprice\", \"content\": True})\n",
    "    highend = soup.find_all(\"span\", {\"class\":\"value\", \"itemprop\":\"highprice\", \"content\": True})\n",
    "    quantityList = []\n",
    "    rangePrice = \"\"\n",
    "\n",
    "    for i in lowend:\n",
    "        rangePrice+=(i[\"content\"])\n",
    "        rangePrice+=\" - \"\n",
    "        break\n",
    "\n",
    "    for i in highend:\n",
    "        rangePrice+=(i[\"content\"])\n",
    "        break\n",
    "\n",
    "    return rangePrice\n"
   ],
   "outputs": [],
   "metadata": {}
  },
  {
   "cell_type": "code",
   "execution_count": 417,
   "source": [
    "def scrape_handguns_helper(url):\n",
    "    headers = {\n",
    "        'User-Agent': 'Mozilla/5.0 (Macintosh; Intel Mac OS X 10_10_1) AppleWebKit/537.36 \\\n",
    "        (KHTML, like Gecko) Chrome/39.0.2171.95 Safari/537.36'\n",
    "    }\n",
    "    url+= \"=undefined&start=0&sz=100\"\n",
    "        \n",
    "    page = requests.get(url)\n",
    "    soup = BeautifulSoup(page.content, \"lxml\")\n",
    "    ammo = soup.find_all(\"div\", class_=\"pdp-link\")\n",
    "    ammoPrice = soup.find_all(\"div\",  class_=\"tile-body\")\n",
    "    names = []\n",
    "    prices = []\n",
    "    actual_prices = []\n",
    "    for i in ammo:\n",
    "        names.append(i.find(\"span\").text)\n",
    "\n",
    "    for i in ammoPrice:\n",
    "        # if the product has a range of prices go here\n",
    "        if '<span class=\"range\">' in str(i):\n",
    "            x = i.find(\"a\", {\"class\": \"link\", \"href\":True})\n",
    "            prices.append(x[\"href\"])\n",
    "\n",
    "        # if the product has a slashed price, go here\n",
    "        else:\n",
    "            x = (i.find(\"span\", class_=\"sales\"))\n",
    "            prices.append(x.find(\"span\", {\"class\":\"value\", \"content\": True}))\n",
    "\n",
    "\n",
    "    # add prices in the prices list\n",
    "    for i in prices:\n",
    "        if \"http\" in i:\n",
    "            rp = range_price(i)\n",
    "            actual_prices.append(rp)\n",
    "\n",
    "        else:\n",
    "            htmlPriceTag = str(i)\n",
    "            splitHtmlPriceTag = htmlPriceTag.split(\" \")\n",
    "            p =  splitHtmlPriceTag[2].strip('content=\"')\n",
    "            actual_prices.append(str(p))\n",
    "\n",
    "   \n",
    "    try:\n",
    "        productList = pd.DataFrame(\n",
    "            {\"name\": names, \"price\": actual_prices}\n",
    "        )\n",
    "        return productList\n",
    "\n",
    "    except:\n",
    "        print(\"something went wrong\")"
   ],
   "outputs": [],
   "metadata": {}
  },
  {
   "cell_type": "code",
   "execution_count": 418,
   "source": [
    "# https://www.cheaperthandirt.com/9mm-luger-parabellum/ammunition/handgun-ammo/?https://www.cheaperthandirt.com/9mm-luger-parabellum/ammunition/handgun-ammo/=undefined&start=0&sz=36\n",
    "handgunByCaliberLink = \"https://www.cheaperthandirt.com/shop-by?cgid=78&searchBy=Caliber\"\n",
    "def scrape_handguns(url):\n",
    "    headers = {\n",
    "        'User-Agent': 'Mozilla/5.0 (Macintosh; Intel Mac OS X 10_10_1) AppleWebKit/537.36 \\\n",
    "        (KHTML, like Gecko) Chrome/39.0.2171.95 Safari/537.36'\n",
    "    }\n",
    "        \n",
    "    page = requests.get(url)\n",
    "    soup = BeautifulSoup(page.content, \"lxml\")\n",
    "    sections = soup.find_all(\"ul\",class_= \"col-lg-11 right-list\")\n",
    "    dirtyLinks = []  \n",
    "    calibers = []  # names\n",
    "    linkToCaliberList = []  # links\n",
    "    \n",
    "    for i in sections:\n",
    "        dirtyLinks.append(i.find_all(\"a\"))\n",
    "\n",
    "    for i in dirtyLinks:\n",
    "        for j in i:\n",
    "            aLink = re.findall(\"(?P<url>https?://[^\\s]+)\", str(j))\n",
    "            linkToCaliberList.append(str(aLink[0]).replace('\">', \"\"))\n",
    "            calibers.append(j.find(\"span\").text)\n",
    "\n",
    "\n",
    "    handgunCaliberLinks = pd.DataFrame(\n",
    "        {\"caliber\": calibers, \"links\": linkToCaliberList}\n",
    "    )\n",
    "\n",
    "    productList = []\n",
    "    for l in handgunCaliberLinks[\"links\"]:\n",
    "        productList.append(scrape_handguns_helper(l))\n",
    "        \n",
    "    return productList"
   ],
   "outputs": [],
   "metadata": {}
  },
  {
   "cell_type": "code",
   "execution_count": null,
   "source": [],
   "outputs": [],
   "metadata": {}
  },
  {
   "cell_type": "code",
   "execution_count": 419,
   "source": [
    "handgunDF = (scrape_handguns(handgunByCaliberLink))"
   ],
   "outputs": [],
   "metadata": {}
  },
  {
   "cell_type": "code",
   "execution_count": 443,
   "source": [
    "from pathlib import Path\n",
    "import os, shutil, glob\n",
    "rel = \"jsonFiles/cheaperThanDirt/ammo\"\n",
    "cwd = Path.cwd()\n",
    "savePath = str(cwd).replace(\"pyScripts\", rel)\n",
    "currentPath = str(Path.cwd())+\"\"\n",
    "aCount = 0\n",
    "\n",
    "\n",
    "for i in handgunDF:\n",
    "    result = i.to_json(orient=\"split\")\n",
    "    parsed = json.loads(result)\n",
    "    data = json.dumps(parsed, indent=4)\n",
    "    with open(f\"{aCount}.json\", \"w\") as fp:\n",
    "        json.dump(data, fp)\n",
    "\n",
    "    currentPath = Path.cwd()\n",
    "    x = (str(currentPath)+f\"/{aCount}.json\")\n",
    "\n",
    "    try:\n",
    "        shutil.move(x, savePath)\n",
    "    except:\n",
    "        pass\n",
    "    aCount += 1"
   ],
   "outputs": [
    {
     "output_type": "error",
     "ename": "Error",
     "evalue": "Destination path '/Users/chakaneshegog/Desktop/crispy-computing-machine/jsonFiles/cheaperThanDirt/ammo/0.json' already exists",
     "traceback": [
      "\u001b[0;31m---------------------------------------------------------------------------\u001b[0m",
      "\u001b[0;31mError\u001b[0m                                     Traceback (most recent call last)",
      "\u001b[0;32m<ipython-input-443-c15f4802dd9d>\u001b[0m in \u001b[0;36m<module>\u001b[0;34m\u001b[0m\n\u001b[1;32m     18\u001b[0m     \u001b[0mx\u001b[0m \u001b[0;34m=\u001b[0m \u001b[0;34m(\u001b[0m\u001b[0mstr\u001b[0m\u001b[0;34m(\u001b[0m\u001b[0mcurrentPath\u001b[0m\u001b[0;34m)\u001b[0m\u001b[0;34m+\u001b[0m\u001b[0;34mf\"/{aCount}.json\"\u001b[0m\u001b[0;34m)\u001b[0m\u001b[0;34m\u001b[0m\u001b[0;34m\u001b[0m\u001b[0m\n\u001b[1;32m     19\u001b[0m \u001b[0;34m\u001b[0m\u001b[0m\n\u001b[0;32m---> 20\u001b[0;31m     \u001b[0mshutil\u001b[0m\u001b[0;34m.\u001b[0m\u001b[0mmove\u001b[0m\u001b[0;34m(\u001b[0m\u001b[0mx\u001b[0m\u001b[0;34m,\u001b[0m \u001b[0msavePath\u001b[0m\u001b[0;34m)\u001b[0m\u001b[0;34m\u001b[0m\u001b[0;34m\u001b[0m\u001b[0m\n\u001b[0m\u001b[1;32m     21\u001b[0m     \u001b[0maCount\u001b[0m \u001b[0;34m+=\u001b[0m \u001b[0;36m1\u001b[0m\u001b[0;34m\u001b[0m\u001b[0;34m\u001b[0m\u001b[0m\n",
      "\u001b[0;32m~/opt/anaconda3/lib/python3.8/shutil.py\u001b[0m in \u001b[0;36mmove\u001b[0;34m(src, dst, copy_function)\u001b[0m\n\u001b[1;32m    784\u001b[0m         \u001b[0mreal_dst\u001b[0m \u001b[0;34m=\u001b[0m \u001b[0mos\u001b[0m\u001b[0;34m.\u001b[0m\u001b[0mpath\u001b[0m\u001b[0;34m.\u001b[0m\u001b[0mjoin\u001b[0m\u001b[0;34m(\u001b[0m\u001b[0mdst\u001b[0m\u001b[0;34m,\u001b[0m \u001b[0m_basename\u001b[0m\u001b[0;34m(\u001b[0m\u001b[0msrc\u001b[0m\u001b[0;34m)\u001b[0m\u001b[0;34m)\u001b[0m\u001b[0;34m\u001b[0m\u001b[0;34m\u001b[0m\u001b[0m\n\u001b[1;32m    785\u001b[0m         \u001b[0;32mif\u001b[0m \u001b[0mos\u001b[0m\u001b[0;34m.\u001b[0m\u001b[0mpath\u001b[0m\u001b[0;34m.\u001b[0m\u001b[0mexists\u001b[0m\u001b[0;34m(\u001b[0m\u001b[0mreal_dst\u001b[0m\u001b[0;34m)\u001b[0m\u001b[0;34m:\u001b[0m\u001b[0;34m\u001b[0m\u001b[0;34m\u001b[0m\u001b[0m\n\u001b[0;32m--> 786\u001b[0;31m             \u001b[0;32mraise\u001b[0m \u001b[0mError\u001b[0m\u001b[0;34m(\u001b[0m\u001b[0;34m\"Destination path '%s' already exists\"\u001b[0m \u001b[0;34m%\u001b[0m \u001b[0mreal_dst\u001b[0m\u001b[0;34m)\u001b[0m\u001b[0;34m\u001b[0m\u001b[0;34m\u001b[0m\u001b[0m\n\u001b[0m\u001b[1;32m    787\u001b[0m     \u001b[0;32mtry\u001b[0m\u001b[0;34m:\u001b[0m\u001b[0;34m\u001b[0m\u001b[0;34m\u001b[0m\u001b[0m\n\u001b[1;32m    788\u001b[0m         \u001b[0mos\u001b[0m\u001b[0;34m.\u001b[0m\u001b[0mrename\u001b[0m\u001b[0;34m(\u001b[0m\u001b[0msrc\u001b[0m\u001b[0;34m,\u001b[0m \u001b[0mreal_dst\u001b[0m\u001b[0;34m)\u001b[0m\u001b[0;34m\u001b[0m\u001b[0;34m\u001b[0m\u001b[0m\n",
      "\u001b[0;31mError\u001b[0m: Destination path '/Users/chakaneshegog/Desktop/crispy-computing-machine/jsonFiles/cheaperThanDirt/ammo/0.json' already exists"
     ]
    }
   ],
   "metadata": {}
  }
 ],
 "metadata": {
  "orig_nbformat": 4,
  "language_info": {
   "name": "python",
   "version": "3.8.5",
   "mimetype": "text/x-python",
   "codemirror_mode": {
    "name": "ipython",
    "version": 3
   },
   "pygments_lexer": "ipython3",
   "nbconvert_exporter": "python",
   "file_extension": ".py"
  },
  "kernelspec": {
   "name": "python3",
   "display_name": "Python 3.8.5 64-bit ('base': conda)"
  },
  "interpreter": {
   "hash": "1502fc925b10548bc063e9113a8dbe6304a6331e79a89971281b734ac35d544e"
  }
 },
 "nbformat": 4,
 "nbformat_minor": 2
}