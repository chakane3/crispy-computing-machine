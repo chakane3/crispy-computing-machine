{
 "cells": [
  {
   "cell_type": "code",
   "execution_count": 1,
   "source": [
    "import urllib.request\n",
    "import re\n",
    "from bs4 import BeautifulSoup\n",
    "from lxml import html\n",
    "import pandas as pd\n",
    "# import xmltojson\n",
    "import json\n",
    "import requests"
   ],
   "outputs": [],
   "metadata": {}
  },
  {
   "cell_type": "code",
   "execution_count": 2,
   "source": [
    "def scrape_handguns_helper(url):\n",
    "    headers = {\n",
    "        'User-Agent': 'Mozilla/5.0 (Macintosh; Intel Mac OS X 10_10_1) AppleWebKit/537.36 \\\n",
    "        (KHTML, like Gecko) Chrome/39.0.2171.95 Safari/537.36'\n",
    "    }\n",
    "    url+= \"=undefined&start=0&sz=100\"\n",
    "        \n",
    "    page = requests.get(url)\n",
    "    soup = BeautifulSoup(page.content, \"lxml\")\n",
    "    ammo = soup.find_all(\"div\", class_=\"pdp-link\")\n",
    "    ammoPrice = soup.find_all(\"span\", {\"class\": \"value\", \"content\": True})\n",
    "    names = []\n",
    "    prices = []\n",
    "    finalPrices = []\n",
    "    for i in ammo:\n",
    "        if(\"</div>\" in str(i)):\n",
    "            names.append(i.find(\"span\").text)\n",
    "\n",
    "        \n",
    "    for i in ammoPrice:\n",
    "        if(\"</span>\" in str(i)):\n",
    "            prices.append(i)\n",
    "\n",
    "    for i in prices:\n",
    "        if(\"</span>\" in str(i)):\n",
    "            finalPrices.append(i[\"content\"])\n",
    "\n",
    "    # print(len(names))\n",
    "    # print(len(prices))\n",
    "    if(len(names) != len(finalPrices)):\n",
    "        print(url)\n",
    "        print(len(names))\n",
    "        print(len(finalPrices))\n",
    "        # for i in ammoPrice:\n",
    "        #     print(i)\n",
    "        \n",
    "\n",
    "    # productList = pd.DataFrame(\n",
    "    #     {\"name\": names, \"price\": finalPrices}\n",
    "    # )\n",
    "    # return productList\n",
    "    \n",
    "\n",
    "    \n",
    "    "
   ],
   "outputs": [],
   "metadata": {}
  },
  {
   "cell_type": "code",
   "execution_count": 3,
   "source": [
    "# https://www.cheaperthandirt.com/9mm-luger-parabellum/ammunition/handgun-ammo/?https://www.cheaperthandirt.com/9mm-luger-parabellum/ammunition/handgun-ammo/=undefined&start=0&sz=36\n",
    "handgunByCaliberLink = \"https://www.cheaperthandirt.com/shop-by?cgid=78&searchBy=Caliber\"\n",
    "def scrape_handguns(url):\n",
    "    headers = {\n",
    "        'User-Agent': 'Mozilla/5.0 (Macintosh; Intel Mac OS X 10_10_1) AppleWebKit/537.36 \\\n",
    "        (KHTML, like Gecko) Chrome/39.0.2171.95 Safari/537.36'\n",
    "    }\n",
    "        \n",
    "    page = requests.get(url)\n",
    "    soup = BeautifulSoup(page.content, \"lxml\")\n",
    "    sections = soup.find_all(\"ul\",class_= \"col-lg-11 right-list\")\n",
    "    dirtyLinks = []  \n",
    "    calibers = []  # names\n",
    "    linkToCaliberList = []  # links\n",
    "    for i in sections:\n",
    "        dirtyLinks.append(i.find_all(\"a\"))\n",
    "\n",
    "    for i in dirtyLinks:\n",
    "        for j in i:\n",
    "            aLink = re.findall(\"(?P<url>https?://[^\\s]+)\", str(j))\n",
    "            linkToCaliberList.append(str(aLink[0]).replace('\">', \"\"))\n",
    "            calibers.append(j.find(\"span\").text)\n",
    "\n",
    "\n",
    "    handgunCaliberLinks = pd.DataFrame(\n",
    "        {\"caliber\": calibers, \"links\": linkToCaliberList}\n",
    "    )\n",
    "\n",
    "    productList = []\n",
    "    for l in handgunCaliberLinks[\"links\"]:\n",
    "        productList.append(scrape_handguns_helper(l))\n",
    "        \n",
    "    return productList"
   ],
   "outputs": [],
   "metadata": {}
  },
  {
   "cell_type": "code",
   "execution_count": 4,
   "source": [
    "scrape_handguns(handgunByCaliberLink)"
   ],
   "outputs": [
    {
     "output_type": "stream",
     "name": "stdout",
     "text": [
      "https://www.cheaperthandirt.com/.45-acp-automatic/ammunition/handgun-ammo/?srule=price-low-to-high&amp;brand=.45ACP/Automatic=undefined&start=0&sz=100\n",
      "19\n",
      "20\n",
      "https://www.cheaperthandirt.com/9mm-luger-parabellum/ammunition/handgun-ammo/?srule=price-low-to-high&amp;brand=9mm/Luger/Parabellum=undefined&start=0&sz=100\n",
      "42\n",
      "47\n"
     ]
    },
    {
     "output_type": "execute_result",
     "data": {
      "text/plain": [
       "[None,\n",
       " None,\n",
       " None,\n",
       " None,\n",
       " None,\n",
       " None,\n",
       " None,\n",
       " None,\n",
       " None,\n",
       " None,\n",
       " None,\n",
       " None,\n",
       " None,\n",
       " None,\n",
       " None,\n",
       " None,\n",
       " None,\n",
       " None,\n",
       " None,\n",
       " None,\n",
       " None,\n",
       " None,\n",
       " None,\n",
       " None,\n",
       " None,\n",
       " None,\n",
       " None,\n",
       " None,\n",
       " None,\n",
       " None]"
      ]
     },
     "metadata": {},
     "execution_count": 4
    }
   ],
   "metadata": {}
  },
  {
   "cell_type": "code",
   "execution_count": 5,
   "source": [
    "# aString = [\"CTDhandgun\", \"CTDrifle\", \"CTDshotgun\"]\n",
    "# num = 0\n",
    "# for i in AmmoList:\n",
    "#     res = i.to_json(orient=\"split\")\n",
    "#     parsed = json.loads(res)\n",
    "#     file = json.dumps(parsed, indent=2)\n",
    "#     with open(f\"{aString[num]}.json\", \"w\") as fp:\n",
    "#         json.dump(file, fp)\n",
    "#     num += 1\n",
    "\n",
    "\n",
    "\n",
    "\n",
    "\n",
    "\n",
    "# savePath = \"/Users/chakaneshegog/Desktop/Ammo/ammo_finder/ammo_finder/jsonData/cheaperThanDirt\"\n",
    "# import os, shutil, glob\n",
    "# try:\n",
    "#     os.makedirs(savePath)  # creates a destination for directory\n",
    "# except OSError:\n",
    "#     pass\n",
    "\n",
    "# for data in glob.iglob(\"*.json\"):\n",
    "#     shutil.copy2(data, savePath)"
   ],
   "outputs": [],
   "metadata": {}
  },
  {
   "cell_type": "code",
   "execution_count": null,
   "source": [],
   "outputs": [],
   "metadata": {}
  }
 ],
 "metadata": {
  "orig_nbformat": 4,
  "language_info": {
   "name": "python",
   "version": "3.8.5",
   "mimetype": "text/x-python",
   "codemirror_mode": {
    "name": "ipython",
    "version": 3
   },
   "pygments_lexer": "ipython3",
   "nbconvert_exporter": "python",
   "file_extension": ".py"
  },
  "kernelspec": {
   "name": "python3",
   "display_name": "Python 3.8.5 64-bit ('base': conda)"
  },
  "interpreter": {
   "hash": "1502fc925b10548bc063e9113a8dbe6304a6331e79a89971281b734ac35d544e"
  }
 },
 "nbformat": 4,
 "nbformat_minor": 2
}