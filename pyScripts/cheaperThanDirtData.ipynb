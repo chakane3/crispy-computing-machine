{
 "cells": [
  {
   "cell_type": "code",
   "execution_count": 23,
   "source": [
    "import urllib.request\n",
    "import re\n",
    "from bs4 import BeautifulSoup\n",
    "from lxml import html\n",
    "import pandas as pd\n",
    "# import xmltojson\n",
    "import json\n",
    "import requests"
   ],
   "outputs": [],
   "metadata": {}
  },
  {
   "cell_type": "code",
   "execution_count": 24,
   "source": [
    "def range_price(url):\n",
    "    headers = {\n",
    "        'User-Agent': 'Mozilla/5.0 (Macintosh; Intel Mac OS X 10_10_1) AppleWebKit/537.36 \\\n",
    "        (KHTML, like Gecko) Chrome/39.0.2171.95 Safari/537.36'\n",
    "    }\n",
    "        \n",
    "    page = requests.get(url)\n",
    "    soup = BeautifulSoup(page.content, \"lxml\")\n",
    "    lowend = soup.find_all(\"span\", {\"class\":\"value\", \"itemprop\":\"lowprice\", \"content\": True})\n",
    "    highend = soup.find_all(\"span\", {\"class\":\"value\", \"itemprop\":\"highprice\", \"content\": True})\n",
    "    quantityList = []\n",
    "    rangePrice = \"\"\n",
    "\n",
    "    for i in lowend:\n",
    "        rangePrice+=(i[\"content\"])\n",
    "        rangePrice+=\" - \"\n",
    "        break\n",
    "\n",
    "    for i in highend:\n",
    "        rangePrice+=(i[\"content\"])\n",
    "        break\n",
    "\n",
    "    return rangePrice\n"
   ],
   "outputs": [],
   "metadata": {}
  },
  {
   "cell_type": "code",
   "execution_count": 25,
   "source": [
    "def scrape_handguns_helper(url):\n",
    "    headers = {\n",
    "        'User-Agent': 'Mozilla/5.0 (Macintosh; Intel Mac OS X 10_10_1) AppleWebKit/537.36 \\\n",
    "        (KHTML, like Gecko) Chrome/39.0.2171.95 Safari/537.36'\n",
    "    }\n",
    "    url+= \"=undefined&start=0&sz=100\"\n",
    "        \n",
    "    page = requests.get(url)\n",
    "    soup = BeautifulSoup(page.content, \"lxml\")\n",
    "    ammo = soup.find_all(\"div\", class_=\"pdp-link\")\n",
    "    ammoPrice = soup.find_all(\"div\",  class_=\"tile-body\")\n",
    "    names = []\n",
    "    prices = []\n",
    "    actual_prices = []\n",
    "    for i in ammo:\n",
    "        names.append(i.find(\"span\").text)\n",
    "\n",
    "    for i in ammoPrice:\n",
    "        # if the product has a range of prices go here\n",
    "        if '<span class=\"range\">' in str(i):\n",
    "            x = i.find(\"a\", {\"class\": \"link\", \"href\":True})\n",
    "            prices.append(x[\"href\"])\n",
    "\n",
    "        # if the product has a slashed price, go here\n",
    "        else:\n",
    "            x = (i.find(\"span\", class_=\"sales\"))\n",
    "            prices.append(x.find(\"span\", {\"class\":\"value\", \"content\": True}))\n",
    "\n",
    "\n",
    "    # add prices in the prices list\n",
    "    for i in prices:\n",
    "        if \"http\" in i:\n",
    "            rp = range_price(i)\n",
    "            actual_prices.append(rp)\n",
    "\n",
    "        else:\n",
    "            htmlPriceTag = str(i)\n",
    "            splitHtmlPriceTag = htmlPriceTag.split(\" \")\n",
    "            p =  splitHtmlPriceTag[2].strip('content=\"')\n",
    "            actual_prices.append(str(p))\n",
    "\n",
    "   \n",
    "    try:\n",
    "        productList = pd.DataFrame(\n",
    "            {\"name\": names, \"price\": actual_prices}\n",
    "        )\n",
    "        return productList\n",
    "\n",
    "    except:\n",
    "        print(\"something went wrong\")"
   ],
   "outputs": [],
   "metadata": {}
  },
  {
   "cell_type": "code",
   "execution_count": 26,
   "source": [
    "# https://www.cheaperthandirt.com/9mm-luger-parabellum/ammunition/handgun-ammo/?https://www.cheaperthandirt.com/9mm-luger-parabellum/ammunition/handgun-ammo/=undefined&start=0&sz=36\n",
    "handgunByCaliberLink = \"https://www.cheaperthandirt.com/shop-by?cgid=78&searchBy=Caliber\"\n",
    "def scrape_handguns(url):\n",
    "    headers = {\n",
    "        'User-Agent': 'Mozilla/5.0 (Macintosh; Intel Mac OS X 10_10_1) AppleWebKit/537.36 \\\n",
    "        (KHTML, like Gecko) Chrome/39.0.2171.95 Safari/537.36'\n",
    "    }\n",
    "        \n",
    "    page = requests.get(url)\n",
    "    soup = BeautifulSoup(page.content, \"lxml\")\n",
    "    sections = soup.find_all(\"ul\",class_= \"col-lg-11 right-list\")\n",
    "    for i in sections:\n",
    "        print(i.find(\"span\").text)\n",
    "    print(\"-----------------------------------------\\n\")\n",
    "    dirtyLinks = []  \n",
    "    calibers = []  # names\n",
    "    linkToCaliberList = []  # links\n",
    "    \n",
    "    for i in sections:\n",
    "        dirtyLinks.append(i.find_all(\"a\"))\n",
    "\n",
    "    for i in dirtyLinks:\n",
    "        for j in i:\n",
    "            aLink = re.findall(\"(?P<url>https?://[^\\s]+)\", str(j))\n",
    "            linkToCaliberList.append(str(aLink[0]).replace('\">', \"\"))\n",
    "            calibers.append(j.find(\"span\").text)\n",
    "\n",
    "\n",
    "    handgunCaliberLinks = pd.DataFrame(\n",
    "        {\"caliber\": calibers, \"links\": linkToCaliberList}\n",
    "    )\n",
    "\n",
    "    productList = []\n",
    "    for l in handgunCaliberLinks[\"links\"]:\n",
    "        productList.append(scrape_handguns_helper(l))\n",
    "        \n",
    "    return productList"
   ],
   "outputs": [],
   "metadata": {}
  },
  {
   "cell_type": "code",
   "execution_count": 27,
   "source": [
    "handgunDF = (scrape_handguns(handgunByCaliberLink))"
   ],
   "outputs": [
    {
     "output_type": "stream",
     "name": "stdout",
     "text": [
      "<span class=\"\">10mm Automatic</span>\n",
      "<span class=\"\">.25 ACP / Automatic</span>\n",
      "<span class=\"\">.327 Federal Magnum</span>\n",
      "<span class=\"\">.40 S&amp;W</span>\n",
      "<span class=\"\">.500 JRH</span>\n",
      "<span class=\"\">9mm / Luger / Parabellum</span>\n",
      "-----------------------------------------\n",
      "\n"
     ]
    }
   ],
   "metadata": {}
  },
  {
   "cell_type": "code",
   "execution_count": null,
   "source": [
    "from pathlib import Path\n",
    "import os, shutil, glob\n",
    "rel = \"jsonFiles/cheaperThanDirt/ammo/handgun/\"\n",
    "cwd = Path.cwd()\n",
    "currentPath = str(Path.cwd())+\"\"\n",
    "aCount = 0\n",
    "savePath = str(cwd).replace(\"pyScripts\", rel)\n",
    "\n",
    "print(savePath)\n",
    "for i in handgunDF:\n",
    "    result = i.to_json(orient=\"split\")\n",
    "    parsed = json.loads(result)\n",
    "    data = json.dumps(parsed, indent=4)\n",
    "    with open(f\"{savePath}{aCount}.json\", \"w\") as fp:\n",
    "        json.dump(data, fp)\n",
    "    aCount += 1\n",
    "\n",
    "\n",
    "# "
   ],
   "outputs": [
    {
     "output_type": "stream",
     "name": "stdout",
     "text": [
      "/Users/chakaneshegog/Desktop/crispy-computing-machine/jsonFiles/cheaperThanDirt/ammo/handgun/\n"
     ]
    }
   ],
   "metadata": {}
  }
 ],
 "metadata": {
  "orig_nbformat": 4,
  "language_info": {
   "name": "python",
   "version": "3.8.5",
   "mimetype": "text/x-python",
   "codemirror_mode": {
    "name": "ipython",
    "version": 3
   },
   "pygments_lexer": "ipython3",
   "nbconvert_exporter": "python",
   "file_extension": ".py"
  },
  "kernelspec": {
   "name": "python3",
   "display_name": "Python 3.8.5 64-bit ('base': conda)"
  },
  "interpreter": {
   "hash": "1502fc925b10548bc063e9113a8dbe6304a6331e79a89971281b734ac35d544e"
  }
 },
 "nbformat": 4,
 "nbformat_minor": 2
}