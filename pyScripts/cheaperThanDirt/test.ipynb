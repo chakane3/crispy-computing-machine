{
 "cells": [
  {
   "cell_type": "code",
   "execution_count": 6,
   "source": [
    "import CTDhandgun_ammo_scrape\n"
   ],
   "outputs": [
    {
     "output_type": "stream",
     "name": "stdout",
     "text": [
      "None\n"
     ]
    }
   ],
   "metadata": {}
  }
 ],
 "metadata": {
  "orig_nbformat": 4,
  "language_info": {
   "name": "python",
   "version": "3.8.5",
   "mimetype": "text/x-python",
   "codemirror_mode": {
    "name": "ipython",
    "version": 3
   },
   "pygments_lexer": "ipython3",
   "nbconvert_exporter": "python",
   "file_extension": ".py"
  },
  "kernelspec": {
   "name": "python3",
   "display_name": "Python 3.8.5 64-bit ('base': conda)"
  },
  "interpreter": {
   "hash": "1502fc925b10548bc063e9113a8dbe6304a6331e79a89971281b734ac35d544e"
  }
 },
 "nbformat": 4,
 "nbformat_minor": 2
}