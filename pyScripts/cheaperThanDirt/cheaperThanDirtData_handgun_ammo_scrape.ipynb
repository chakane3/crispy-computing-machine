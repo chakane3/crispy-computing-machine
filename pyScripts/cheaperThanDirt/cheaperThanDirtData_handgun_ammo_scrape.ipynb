{
 "cells": [
  {
   "cell_type": "code",
   "execution_count": 1,
   "source": [
    "import urllib.request\n",
    "import re\n",
    "from bs4 import BeautifulSoup\n",
    "from lxml import html\n",
    "import pandas as pd\n",
    "# import xmltojson\n",
    "import json\n",
    "import requests"
   ],
   "outputs": [],
   "metadata": {}
  },
  {
   "cell_type": "code",
   "execution_count": 2,
   "source": [
    "def range_price(url):\n",
    "    headers = {\n",
    "        'User-Agent': 'Mozilla/5.0 (Macintosh; Intel Mac OS X 10_10_1) AppleWebKit/537.36 \\\n",
    "        (KHTML, like Gecko) Chrome/39.0.2171.95 Safari/537.36'\n",
    "    }\n",
    "        \n",
    "    page = requests.get(url)\n",
    "    soup = BeautifulSoup(page.content, \"lxml\")\n",
    "    lowend = soup.find_all(\"span\", {\"class\":\"value\", \"itemprop\":\"lowprice\", \"content\": True})\n",
    "    highend = soup.find_all(\"span\", {\"class\":\"value\", \"itemprop\":\"highprice\", \"content\": True})\n",
    "    quantityList = []\n",
    "    rangePrice = \"\"\n",
    "\n",
    "    for i in lowend:\n",
    "        rangePrice+=(i[\"content\"])\n",
    "        rangePrice+=\" - \"\n",
    "        break\n",
    "\n",
    "    for i in highend:\n",
    "        rangePrice+=(i[\"content\"])\n",
    "        break\n",
    "\n",
    "    return rangePrice\n"
   ],
   "outputs": [],
   "metadata": {}
  },
  {
   "cell_type": "code",
   "execution_count": 3,
   "source": [
    "def scrape_handguns_helper(url):\n",
    "    headers = {\n",
    "        'User-Agent': 'Mozilla/5.0 (Macintosh; Intel Mac OS X 10_10_1) AppleWebKit/537.36 \\\n",
    "        (KHTML, like Gecko) Chrome/39.0.2171.95 Safari/537.36'\n",
    "    }\n",
    "    url+= \"=undefined&start=0&sz=100\"\n",
    "        \n",
    "    page = requests.get(url)\n",
    "    soup = BeautifulSoup(page.content, \"lxml\")\n",
    "    ammo = soup.find_all(\"div\", class_=\"pdp-link\")\n",
    "    ammoPrice = soup.find_all(\"div\",  class_=\"tile-body\")\n",
    "    names = []\n",
    "    prices = []\n",
    "    actual_prices = []\n",
    "    for i in ammo:\n",
    "        names.append(i.find(\"span\").text)\n",
    "\n",
    "    for i in ammoPrice:\n",
    "        # if the product has a range of prices go here\n",
    "        if '<span class=\"range\">' in str(i):\n",
    "            x = i.find(\"a\", {\"class\": \"link\", \"href\":True})\n",
    "            prices.append(x[\"href\"])\n",
    "\n",
    "        # if the product has a slashed price, go here\n",
    "        else:\n",
    "            x = (i.find(\"span\", class_=\"sales\"))\n",
    "            prices.append(x.find(\"span\", {\"class\":\"value\", \"content\": True}))\n",
    "\n",
    "\n",
    "    # add prices in the prices list\n",
    "    for i in prices:\n",
    "        if \"http\" in i:\n",
    "            rp = range_price(i)\n",
    "            actual_prices.append(rp)\n",
    "\n",
    "        else:\n",
    "            htmlPriceTag = str(i)\n",
    "            splitHtmlPriceTag = htmlPriceTag.split(\" \")\n",
    "            p =  splitHtmlPriceTag[2].strip('content=\"')\n",
    "            actual_prices.append(str(p))\n",
    "   \n",
    "    try:\n",
    "        productList = pd.DataFrame(\n",
    "            {\"name\": names, \"price\": actual_prices}\n",
    "        )\n",
    "        return productList\n",
    "\n",
    "    except:\n",
    "        print(\"something went wrong\")"
   ],
   "outputs": [],
   "metadata": {}
  },
  {
   "cell_type": "code",
   "execution_count": 4,
   "source": [
    "# https://www.cheaperthandirt.com/9mm-luger-parabellum/ammunition/handgun-ammo/?https://www.cheaperthandirt.com/9mm-luger-parabellum/ammunition/handgun-ammo/=undefined&start=0&sz=36\n",
    "handgunByCaliberLink = \"https://www.cheaperthandirt.com/shop-by?cgid=78&searchBy=Caliber\"\n",
    "def scrape_handguns(url):\n",
    "    headers = {\n",
    "        'User-Agent': 'Mozilla/5.0 (Macintosh; Intel Mac OS X 10_10_1) AppleWebKit/537.36 \\\n",
    "        (KHTML, like Gecko) Chrome/39.0.2171.95 Safari/537.36'\n",
    "    }\n",
    "        \n",
    "    page = requests.get(url)\n",
    "    soup = BeautifulSoup(page.content, \"lxml\")\n",
    "    sections = soup.find_all(\"ul\",class_= \"col-lg-11 right-list\")\n",
    "\n",
    "    # get caliber number set\n",
    "    caliberNumbers = []\n",
    "    x = soup.find_all('div', class_=\"refinements\")\n",
    "    for i in x:\n",
    "        cn = i.find_all(\"div\", {\"id\": True})\n",
    "        for j in cn:\n",
    "            caliberNumbers.append((j[\"id\"]))\n",
    "\n",
    "    dirtyLinks = []  \n",
    "    \n",
    "    for i in sections:\n",
    "        dirtyLinks.append(i.find_all(\"a\"))\n",
    "\n",
    "    caliberNumberDF = pd.DataFrame(\n",
    "        {\"number\": caliberNumbers, \"section\": dirtyLinks}\n",
    "    )\n",
    "    \n",
    "    arrayOfDicts = []\n",
    "    index = 0\n",
    "    for i in caliberNumberDF[\"section\"]:\n",
    "        linkToCaliberList = []  # links\n",
    "        productDict = {\"sectionNumber\": [], \"name\": [], \"price\": [], \"link\": []}\n",
    "        for j in i:\n",
    "            aLink = re.findall(\"(?P<url>https?://[^\\s]+)\", str(j))\n",
    "            linkToCaliberList.append(str(aLink[0]).replace('\">', \"\"))\n",
    "\n",
    "\n",
    "        for k in linkToCaliberList:\n",
    "            productDF = scrape_handguns_helper(k)\n",
    "            aNameList = []\n",
    "            aPriceList = []\n",
    "            \n",
    "            for j in productDF[\"name\"]:\n",
    "                aNameList.append(j)\n",
    "            productDict[\"name\"].append(aNameList)\n",
    "\n",
    "            productDict[\"link\"].append(k)\n",
    "            \n",
    "\n",
    "            for j in productDF[\"price\"]:\n",
    "                aPriceList.append(j)\n",
    "            productDict[\"price\"].append(aPriceList)\n",
    "        \n",
    "            \n",
    "        \n",
    "        productDict[\"sectionNumber\"].append(caliberNumbers[index])\n",
    "        arrayOfDicts.append(productDict)\n",
    "        index += 1\n",
    "    return arrayOfDicts\n",
    "\n",
    "\n",
    "    \n",
    "\n",
    "        \n",
    "\n"
   ],
   "outputs": [],
   "metadata": {}
  },
  {
   "cell_type": "code",
   "execution_count": 5,
   "source": [
    "handgunDF = (scrape_handguns(handgunByCaliberLink))"
   ],
   "outputs": [],
   "metadata": {}
  },
  {
   "cell_type": "code",
   "execution_count": 6,
   "source": [
    "for i in handgunDF:\n",
    "    print(i)"
   ],
   "outputs": [
    {
     "output_type": "stream",
     "name": "stdout",
     "text": [
      "{'sectionNumber': ['1'], 'name': [['Browning X-Point Defense 10mm Auto Ammunition 20 Rounds JHP 180 Grain', 'Hornady Critical Duty 10mm Auto Ammunition 20 Rounds FlexLock 175 Grains 91256', 'Magtech 10mm Auto Ammunition 50 Rounds FMJ 180 Grains', 'CCI Blazer 10mm Auto Ammunition 50 Rounds 200 Grain Full Metal Jacket 1050fps', 'Sellier & Bellot 10mm Ammunition 50 Rounds JHP 180 Grains', 'American Quality 10mm Auto Ammunition 250 Bulk Rounds FMJ 180 Grains N10180VP250']], 'price': [['29.89', '49.24', '49.89', '59.89', '59.89', '159.89']], 'link': ['https://www.cheaperthandirt.com/10mm-automatic/ammunition/handgun-ammo/?srule=price-low-to-high&amp;brand=10mmAutomatic']}\n",
      "{'sectionNumber': ['2'], 'name': [['Winchester USA .25 ACP Ammunition 50 Rounds, FMJ, 50 Grains']], 'price': [['49.89']], 'link': ['https://www.cheaperthandirt.com/.25-acp-automatic/ammunition/handgun-ammo/?srule=price-low-to-high&amp;brand=.25ACP/Automatic']}\n",
      "{'sectionNumber': ['3'], 'name': [['Buffalo Bore .32 H&R Magnum +P Ammunition 20 Rounds HC Keith SWC 130 Grains 36B/...'], ['Barnes .357 Magnum Ammunition 20 Rounds XPB JHP 140 Grains BB357M2', 'American Quality .357 Magnum Ammunition 250 Rounds FMJ 158 Grain'], ['MAXXTech .380 ACP Ammunition 50 Rounds FMJ 95 Grains PTGB380', 'PMC Bronze .380 ACP Ammunition 90 Grain FMJ 961 fps 380A', 'Armscor USA .380 ACP Ammunition 95 Grain Full Metal Jacket 50 Rounds', 'Sellier & Bellot .380 ACP Ammunition 92 Grain FMJ 955 fps 50 Rounds'], ['Winchester Silvertip .38 Special Ammunition 110 Grain Silvertip JHP 20 Rounds 94...'], ['Buffalo Bore .38 Super +P Ammunition 20 Rounds FMJ FN 124 Grains 33C/20', 'Buffalo Bore .38 Super +P Ammunition 20 Rounds JHP 115 Grains 33A/20', 'Buffalo Bore .38 Super +P Ammunition 20 Rounds JHP 147 Grains 33E/20', 'Buffalo Bore .38 Super +P Ammunition 20 Rounds Barnes TAC-XP 115 Grains 33F/20', 'Winchester USA .38 Super +P Ammunition 50 Rounds, FMJ, 130 Grain']], 'price': [['34.89'], ['50.29', '259.89'], ['49.89', '54.89', '54.89', '59.89'], ['69.89'], ['29.89', '29.89', '29.89', '39.89', '59.89']], 'link': ['https://www.cheaperthandirt.com/.32-handr-magnum/ammunition/handgun-ammo/?srule=price-low-to-high&amp;brand=.32H&amp;RMagnum', 'https://www.cheaperthandirt.com/.357-magnum/ammunition/handgun-ammo/?srule=price-low-to-high&amp;brand=.357Magnum', 'https://www.cheaperthandirt.com/.380-acp-automatic/ammunition/handgun-ammo/?srule=price-low-to-high&amp;brand=.380ACP/Automatic', 'https://www.cheaperthandirt.com/.38-special/ammunition/handgun-ammo/?srule=price-low-to-high&amp;brand=.38Special', 'https://www.cheaperthandirt.com/.38-super-automatic/ammunition/handgun-ammo/?srule=price-low-to-high&amp;brand=.38SuperAutomatic']}\n",
      "{'sectionNumber': ['4'], 'name': [['Armscor USA .40 S&W Ammunition 20 Rounds JHP 180 Grains AC40-3N', 'Buffalo Bore .40 S&W +P Ammunition 20 Rounds FMJ-FN 180 Grain 23C/20', 'Buffalo Bore .40 S&W +P Ammunition 20 Rounds JHP 155 Grain 23A/20', 'Buffalo Bore .40 S&W +P Ammunition 20 Rounds JHP 180 Grain 23B/20', 'Browning X-Point Defense .40 S&W Ammunition 20 Rounds JHP 180 Grain', 'Winchester .40 S&W Ammunition 50 Rounds FMJFN 165 Grains', 'PMC .40 S&W Ammunition 50 Rounds FMJ 165 Grains 40D', 'Magtech .40 S&W Ammunition 50 Rounds FMJ FP 180 Grains 40B', 'Speer Lawman .40 S&W Ammunition 50 Rounds TMJ 180 Grain 1,000 Feet Per Second', 'BVAC .40 S&W Ammunition 500 Rounds Reloaded FMJ 180 Grains R40180VP500'], ['Buffalo Bore Heavy .41 Remington Magnum Ammunition 20 Rounds Hard Cast LWN 265 G...'], ['American Quality .44 Magnum Ammunition 250 Bulk Rounds LSWC 240 Grains N44M240VP...'], ['Buffalo Bore Heavy .44 Special Ammunition 20 Rounds Soft Cast HP GC 190 Grain 14...', 'Buffalo Bore Anti-Personnel .44 Special Ammunition 20 Rounds Barnes Hard Cast Wa...'], ['BVAC .45 ACP Ammunition 50 Rounds Reloaded FMJ 230 Grains Poly Bag R45230', 'Buffalo Bore .45 ACP +P Ammunition 20 Rounds JHP 230 Grain 45-230/20', 'American Quality .45 ACP Ammunition 50 Rounds FMJ 230 Grains N45230', 'Sellier & Bellot .45 ACP Ammunition 50 Rounds 230 Grain FMJ 853 fps', 'TulAmmo .45 ACP Ammunition 50 Rounds FMJ 230 Grains TA452300', 'Magtech .45 ACP Ammunition 230 Grain Full Metal Jacket 837 fps', 'PMC Bronze .45 ACP Ammunition 230 Grain FMJ 830 fps 50 Rounds', 'Winchester PDX1 Defender .45 ACP Ammunition 20 Rounds 230 Grain Bonded JHP 920 f...', 'Ammo .45 Auto Federal Champion 230 Grain Full Metal Jacket Bullet 845 fps 50 Rou...', 'CCI Blazer .45 ACP Ammunition 50 Rounds 230 Grain Full Metal Jacket 845fps', 'CCI Blazer Brass .45 ACP Ammunition 50 Rounds FMJ 230 Grains 5230', '100 Rounds of Winchester USA .45 ACP Ammunition 230 Grain FMJ 835 fps', 'American Quality .45 ACP Ammunition 250 Rounds FMJ 230 Grains N45230VP250', 'BVAC .45 ACP Ammunition 500 Bulk Rounds Reloaded FMJ 230 Grains R45230VP500'], ['Buffalo Bore Dangerous Game Heavy .45 Colt +P Ammunition 20 Rounds Mon-Metal WFN...'], ['Buffalo Bore .45 Winchester Magnum Ammunition 20 Rounds JHP 230 Grain 45WM230JHP...'], ['Buffalo Bore .460 Rowland Ammunition 20 Rounds JHP 185 Grain 35A/20'], ['Sellier & Bellot .460 Smith & Wesson Ammunition 20 Rounds 255 Grain Jacketed Hol...', 'Buffalo Bore .460 S&W Magnum Ammunition 20 Rounds Barnes XPB Lead Free 275 Grain...'], ['Buffalo Bore .475 Linebaugh Ammunition 20 Rounds Hard Cast LBT LFN 420 Grain 2B/...', 'Buffalo Bore .475 Linebaugh Ammunition 20 Rounds Hard Cast LBT LFN 420 Grain 2A/...', 'Buffalo Bore Dangerous Game .475 Linebaugh Ammunition 20 Rounds Mono-Metal Lead ...', 'Underwood Ammo .475 Linebaugh Ammunition 20 Round Box 300 Grain Solid Copper 160...'], ['Buffalo Bore .480 Ruger Ammunition 20 Rounds LFN 370 Grains', 'Buffalo Bore .480 Ruger Ammunition 20 Rounds Barnes XPB Lead Free JHP 275 Grain ...']], 'price': [['19.89', '29.89', '29.89', '29.89', '29.89', '39.89', '39.89', '39.89', '42.66', '279.89'], ['41.89'], ['249.89'], ['43.89', '49.89'], ['29.89', '34.89', '34.89', '39.89', '39.89', '44.89', '44.89', '49.89', '49.91', '69.89', '79.89', '99.89', '179.89', '279.89'], ['55.89'], ['49.89'], ['43.89'], ['29.89', '79.89'], ['69.89', '69.89', '79.89', '133.03'], ['69.89', '79.89']], 'link': ['https://www.cheaperthandirt.com/.40-sandw/ammunition/handgun-ammo/?srule=price-low-to-high&amp;brand=.40S&amp;W', 'https://www.cheaperthandirt.com/.41-remington-magnum/ammunition/handgun-ammo/?srule=price-low-to-high&amp;brand=.41RemingtonMagnum', 'https://www.cheaperthandirt.com/.44-magnum/ammunition/handgun-ammo/?srule=price-low-to-high&amp;brand=.44Magnum', 'https://www.cheaperthandirt.com/.44-sandw-special/ammunition/handgun-ammo/?srule=price-low-to-high&amp;brand=.44S&amp;WSpecial', 'https://www.cheaperthandirt.com/.45-acp-automatic/ammunition/handgun-ammo/?srule=price-low-to-high&amp;brand=.45ACP/Automatic', 'https://www.cheaperthandirt.com/.45-colt/ammunition/handgun-ammo/?srule=price-low-to-high&amp;brand=.45Colt', 'https://www.cheaperthandirt.com/.45-winchester-magnum/ammunition/handgun-ammo/?srule=price-low-to-high&amp;brand=.45WinchesterMagnum', 'https://www.cheaperthandirt.com/.460-rowland/ammunition/handgun-ammo/?srule=price-low-to-high&amp;brand=.460Rowland', 'https://www.cheaperthandirt.com/.460-sandw-magnum/ammunition/handgun-ammo/?srule=price-low-to-high&amp;brand=.460S&amp;WMagnum', 'https://www.cheaperthandirt.com/.475-linebaugh/ammunition/handgun-ammo/?srule=price-low-to-high&amp;brand=.475Linebaugh', 'https://www.cheaperthandirt.com/.480-ruger/ammunition/handgun-ammo/?srule=price-low-to-high&amp;brand=.480Ruger']}\n",
      "{'sectionNumber': ['5'], 'name': [['Buffalo Bore .500 JRH Ammunition 20 Rounds JHP 350 Grain 44C/20', 'Buffalo Bore .500 JRH Ammunition 20 Rounds Hard Cast FN 440 Grain 44A/20', 'Buffalo Bore .500 JRH Ammunition 20 Rounds Hard Cast FN 440 Grain Low Recoil 44B...']], 'price': [['69.89', '69.89', '69.89']], 'link': ['https://www.cheaperthandirt.com/.500-jrh/ammunition/handgun-ammo/?srule=price-low-to-high&amp;brand=.500JRH']}\n",
      "{'sectionNumber': ['9'], 'name': [['MAXXTech 9mm Luger Ammunition 50 Rounds FMJ 115 Grains PTGB9MM', 'Armscor USA 9mm Luger Ammunition 50 Rounds FMJ 147 Grain', 'Armscor USA 9mm Luger Ammunition 50 Rounds FMJ 115 Grains', 'Buffalo Bore 9mm Luger +P+ Ammunition 20 Rounds JHP 124 Grains 24B/20', 'PMC Bronze 9mm Luger Ammunition 50 Rounds FMJ 124 Grains 9G', 'PMC Bronze 9mm Luger Ammunition 50 Rounds 115 Grain JHP 1160 fps', 'Buffalo Bore 9mm Luger +P+ Ammunition 20 Rounds Barnes TAC-XP 95 Grains 24G/20', 'PMC Bronze 9mm Luger Ammunition 50 Rounds FMJ 115 Grains 9A', 'Magtech 9mm Luger Ammunition 50 Rounds 115 Grain Full Metal Jacket 1135fps', 'Magtech 9mm Luger Ammunition 50 Rounds FMJ 124 Grains 9B', 'Winchester USA 9mm Luger Ammunition 50 Rounds, FMJ, 124 Grains', 'Winchester 9mm Range Ammunition FMJ 115 Grain 1190 fps 50 Rounds', 'Aguila 9mm Ammunition 50 Rounds FMJ 115 Grain', 'Winchester Defender 9mm Luger Ammunition Bonded JHP 147 Grains', 'Hornady 9mm Luger Ammunition 25 Rounds FTX HP 115 Grains', 'Winchester Silvertip 9mm Luger Ammunition 20 Rounds JHP 115 Grains W9MMST', 'Armscor USA 9mm Luger +P Ammunition 50 Rounds JHP 115 Grain', 'Winchester USA Ready Defense 9mm Luger +P Ammunition 124 Grain JHP 1200 fps 20 R...', 'Winchester USA 9mm Luger Ammunition 50 Rounds FMJ 115 Grain 1190 fps', 'Winchester USA 9mm Luger Ammunition FMJ 147 Grains 990 fps', 'Hornady Critical Duty 9mm Luger Ammunition 25 Rounds 135 Grain FlexLock Polymer ...', 'Remington RANGE 9mm 115 Grain Full Metal Jacket Ammunition 50 Rounds per Box T9M...', 'FIOCCHI 9mm Luger Ammunition 50 Rounds FMJ 115 Grains 9AP', 'Winchester USA Ready 9mm Ammunition 50 Rounds FMJFN 115 Grains 1190 fps', 'CCI Blazer Brass 9mm Luger Ammunition FMJ 115 Grains 50 Rounds', 'Federal American Eagle 9mm Ammunition FMJ Flat Point 147 Grain 50 Rounds 1,000 F...', 'Federal American Eagle 9mm Luger Ammunition FMJ 124 Grains AE9AP 50 Rounds per B...', 'Browning 9mm Luger Ammunition 100 Rounds 115 Grain FMJ 1190 fps', 'Winchester USA Forged 9mm Luger Ammunition 150 Rounds Steel Case FMJ 115 Grains ...', 'Federal Train+Protect 9mm Luger Ammunition Versatile JHP 115 Grains TP9VHP1', 'Winchester USA Valor 9mm Luger Ammunition 200 Rounds FMJ 124 Grains USA9NATOW', 'American Quality 9mm Luger Ammunition 500 Bulk Rounds FMJ 115 Grain Winchester B...'], ['Winchester 9x21mm IMI Ammunition 50 Rounds 124 Grain Full Metal Jacket 351fps'], ['Buffalo Bore 9x23 Winchester Ammunition 20 Rounds JHP 124 Grains 9x23 124JHP/20', 'Buffalo Bore 9x23 Winchester Ammunition 20 Rounds JHP 147 Grains 9x23 147JHP/20']], 'price': [['21.17', '24.95', '29.89', '34.89', '34.89', '35.77', '39.89', '39.89', '39.89', '39.89', '39.89', '39.89', '44.89', '44.89', '45.21', '49.89', '49.89', '49.89', '49.89 - 89.89', '49.89', '50.43', '59.89', '59.89', '59.89', '59.89', '69.89', '69.89', '89.89', '99.89', '99.89', '199.89', '379.89'], ['36.34'], ['29.89', '29.89']], 'link': ['https://www.cheaperthandirt.com/9mm-luger-parabellum/ammunition/handgun-ammo/?srule=price-low-to-high&amp;brand=9mm/Luger/Parabellum', 'https://www.cheaperthandirt.com/9x21mm/ammunition/handgun-ammo/?srule=price-low-to-high&amp;brand=9x21mm', 'https://www.cheaperthandirt.com/9x23mm/ammunition/handgun-ammo/?srule=price-low-to-high&amp;brand=9x23mm']}\n"
     ]
    }
   ],
   "metadata": {}
  },
  {
   "cell_type": "code",
   "execution_count": 19,
   "source": [
    "from pathlib import Path\n",
    "import os, shutil, glob\n",
    "rel = \"jsonFiles/cheaperThanDirt/ammo/handgun\"\n",
    "cwd = Path.cwd()\n",
    "currentPath = str(Path.cwd())+\"\"\n",
    "aCount = 0\n",
    "savePath = str(cwd).replace(\"pyScripts/cheaperThanDirt\", rel)\n",
    "index = 0\n",
    "print(currentPath)\n",
    "print(savePath)\n",
    "# for i in handgunDF:\n",
    "#     with open(os.path.join(savePath, f\"CTDHandgunAmmo.json{index}\"), \"w\") as fp:\n",
    "#         json.dump(i, fp)\n",
    "#         index += 1\n",
    "\n"
   ],
   "outputs": [
    {
     "output_type": "stream",
     "name": "stdout",
     "text": [
      "/Users/chakaneshegog/Desktop/crispy-computing-machine/pyScripts/cheaperThanDirt\n",
      "/Users/chakaneshegog/Desktop/crispy-computing-machine/jsonFiles/cheaperThanDirt/ammo/handgun/cheaperThanDirt\n"
     ]
    }
   ],
   "metadata": {}
  }
 ],
 "metadata": {
  "orig_nbformat": 4,
  "language_info": {
   "name": "python",
   "version": "3.8.5",
   "mimetype": "text/x-python",
   "codemirror_mode": {
    "name": "ipython",
    "version": 3
   },
   "pygments_lexer": "ipython3",
   "nbconvert_exporter": "python",
   "file_extension": ".py"
  },
  "kernelspec": {
   "name": "python3",
   "display_name": "Python 3.8.5 64-bit ('base': conda)"
  },
  "interpreter": {
   "hash": "1502fc925b10548bc063e9113a8dbe6304a6331e79a89971281b734ac35d544e"
  }
 },
 "nbformat": 4,
 "nbformat_minor": 2
}